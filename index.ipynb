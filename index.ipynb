{
 "cells": [
  {
   "cell_type": "code",
   "execution_count": 2,
   "metadata": {},
   "outputs": [
    {
     "name": "stdout",
     "output_type": "stream",
     "text": [
      "jenis kelamin saya laki-laki\n"
     ]
    }
   ],
   "source": [
    "nama = 'rizal'\n",
    "jk = \"laki-laki\" # definisi jenis kelamin \n",
    "\n",
    "print(\"jenis kelamin saya \" + jk)"
   ]
  },
  {
   "cell_type": "code",
   "execution_count": 3,
   "metadata": {},
   "outputs": [
    {
     "name": "stdout",
     "output_type": "stream",
     "text": [
      "<class 'str'>\n",
      "25.0\n"
     ]
    }
   ],
   "source": [
    "x = \"ini adalah string\"\n",
    "print(type(x))\n",
    "\n",
    "nama = \"rahmat\"\n",
    "umur = 25\n",
    "\n",
    "print(float(umur))"
   ]
  },
  {
   "cell_type": "code",
   "execution_count": 4,
   "metadata": {},
   "outputs": [
    {
     "name": "stdout",
     "output_type": "stream",
     "text": [
      "True\n"
     ]
    }
   ],
   "source": [
    "x = 5\n",
    "y = 1\n",
    "\n",
    "print(x != y)"
   ]
  },
  {
   "cell_type": "code",
   "execution_count": 5,
   "metadata": {},
   "outputs": [
    {
     "name": "stdout",
     "output_type": "stream",
     "text": [
      "False\n"
     ]
    }
   ],
   "source": [
    "x1 = 1\n",
    "y1 = 2\n",
    "\n",
    "x2 = 3\n",
    "y2 = 3\n",
    "\n",
    "print(not(x1 == y1 or x2 == y2))\n",
    "# AND \n",
    "# T T = T\n",
    "# T F = F\n",
    "# F T = F\n",
    "# F F = F\n",
    "\n",
    "# OR\n",
    "# T T = T\n",
    "# T F = T\n",
    "# F T = T\n",
    "# F F = F\n"
   ]
  },
  {
   "cell_type": "code",
   "execution_count": 6,
   "metadata": {},
   "outputs": [
    {
     "name": "stdout",
     "output_type": "stream",
     "text": [
      "x lebih besar dari 3 dan lebih kecil dari 7\n",
      "selesai\n"
     ]
    }
   ],
   "source": [
    "x = 4\n",
    "\n",
    "if (x > 7): # true\n",
    "    print(\"x lebih besar dari 7\")\n",
    "    print(\"kondisi 1\")\n",
    "elif (x < 3):\n",
    "    print(\"x lebih kecil dari 3\")\n",
    "else:\n",
    "    print(\"x lebih besar dari 3 dan lebih kecil dari 7\")\n",
    "\n",
    "print(\"selesai\")"
   ]
  },
  {
   "cell_type": "code",
   "execution_count": 7,
   "metadata": {},
   "outputs": [
    {
     "name": "stdout",
     "output_type": "stream",
     "text": [
      "hasilnya  12.0\n"
     ]
    }
   ],
   "source": [
    "# jenisKelamin # camel case\n",
    "# jenis_kelamin # snake case\n",
    "angka1 = input(\"masukan angka 1: \")\n",
    "angka2 = input(\"masukan angka 2: \")\n",
    "hasil = float(angka1) * int(angka2)\n",
    "print(\"hasilnya  \" + str(hasil))"
   ]
  }
 ],
 "metadata": {
  "interpreter": {
   "hash": "0dffb5442d84be890217d664a91c46e420962c190ec91d07047007dfcc46efe8"
  },
  "kernelspec": {
   "display_name": "Python 3.7.5 64-bit",
   "language": "python",
   "name": "python3"
  },
  "language_info": {
   "codemirror_mode": {
    "name": "ipython",
    "version": 3
   },
   "file_extension": ".py",
   "mimetype": "text/x-python",
   "name": "python",
   "nbconvert_exporter": "python",
   "pygments_lexer": "ipython3",
   "version": "3.7.5"
  },
  "orig_nbformat": 4
 },
 "nbformat": 4,
 "nbformat_minor": 2
}
